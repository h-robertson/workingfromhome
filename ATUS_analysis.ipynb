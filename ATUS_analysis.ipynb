{
 "cells": [
  {
   "cell_type": "markdown",
   "metadata": {},
   "source": [
    "# Data Viz: Assignment 2"
   ]
  },
  {
   "cell_type": "code",
   "execution_count": 7,
   "metadata": {},
   "outputs": [],
   "source": [
    "import pandas as pd\n",
    "import numpy as np\n",
    "\n",
    "pd.set_option('display.precision',2) #decimal pts\n",
    "pd.set_option('display.max_columns', None)\n",
    "pd.set_option('display.max_rows', None)\n",
    "pd.options.mode.chained_assignment = None  "
   ]
  },
  {
   "cell_type": "markdown",
   "metadata": {},
   "source": [
    "### Read in four ATUS microdata files: activity, CPS, repsondent & activity summary"
   ]
  },
  {
   "cell_type": "code",
   "execution_count": 8,
   "metadata": {},
   "outputs": [],
   "source": [
    "act=pd.read_csv('atusact_2018.dat')\n",
    "cps=pd.read_csv('atuscps_2018.dat')\n",
    "resp=pd.read_csv('atusresp_2018.dat')\n",
    "summ=pd.read_csv('atussum_2018.dat')"
   ]
  },
  {
   "cell_type": "markdown",
   "metadata": {},
   "source": [
    "### Subset required columns"
   ]
  },
  {
   "cell_type": "code",
   "execution_count": 9,
   "metadata": {},
   "outputs": [],
   "source": [
    "actCols=['TUCASEID','TEWHERE','TUACTDUR24','TUTIER1CODE','TRTIER2']"
   ]
  },
  {
   "cell_type": "code",
   "execution_count": 10,
   "metadata": {},
   "outputs": [],
   "source": [
    "act=pd.DataFrame(act, columns=actCols)"
   ]
  },
  {
   "cell_type": "code",
   "execution_count": 11,
   "metadata": {},
   "outputs": [],
   "source": [
    "cps=cps[cps['TULINENO']==1]"
   ]
  },
  {
   "cell_type": "code",
   "execution_count": 12,
   "metadata": {},
   "outputs": [],
   "source": [
    "summCols = ['TUCASEID', 'TUFINLWGT','TEAGE','TESEX','TELFS','TRCHILDNUM','TUDIARYDAY','TRHOLIDAY']"
   ]
  },
  {
   "cell_type": "code",
   "execution_count": 13,
   "metadata": {},
   "outputs": [],
   "source": [
    "summ=pd.DataFrame(summ, columns=summCols)"
   ]
  },
  {
   "cell_type": "code",
   "execution_count": 14,
   "metadata": {},
   "outputs": [],
   "source": [
    "respCols = ['TUCASEID','TRMJIND1','TRMJOCC1']"
   ]
  },
  {
   "cell_type": "code",
   "execution_count": 15,
   "metadata": {},
   "outputs": [],
   "source": [
    "resp=pd.DataFrame(resp, columns=respCols)"
   ]
  },
  {
   "cell_type": "code",
   "execution_count": 16,
   "metadata": {},
   "outputs": [],
   "source": [
    "cpsCols=['TUCASEID','HEFAMINC','PEMARITL']"
   ]
  },
  {
   "cell_type": "code",
   "execution_count": 17,
   "metadata": {},
   "outputs": [],
   "source": [
    "cps=pd.DataFrame(cps, columns=cpsCols)"
   ]
  },
  {
   "cell_type": "markdown",
   "metadata": {},
   "source": [
    "### Merge cps, resp & summ data files on TUCASEID"
   ]
  },
  {
   "cell_type": "code",
   "execution_count": 18,
   "metadata": {},
   "outputs": [],
   "source": [
    "ind=resp.merge(summ, on='TUCASEID')"
   ]
  },
  {
   "cell_type": "code",
   "execution_count": 19,
   "metadata": {},
   "outputs": [],
   "source": [
    "ind=ind.merge(cps, on='TUCASEID',how='left')"
   ]
  },
  {
   "cell_type": "code",
   "execution_count": 20,
   "metadata": {},
   "outputs": [
    {
     "name": "stdout",
     "output_type": "stream",
     "text": [
      "<class 'pandas.core.frame.DataFrame'>\n",
      "Int64Index: 9593 entries, 0 to 9592\n",
      "Data columns (total 12 columns):\n",
      "TUCASEID      9593 non-null int64\n",
      "TRMJIND1      9593 non-null int64\n",
      "TRMJOCC1      9593 non-null int64\n",
      "TUFINLWGT     9593 non-null float64\n",
      "TEAGE         9593 non-null int64\n",
      "TESEX         9593 non-null int64\n",
      "TELFS         9593 non-null int64\n",
      "TRCHILDNUM    9593 non-null int64\n",
      "TUDIARYDAY    9593 non-null int64\n",
      "TRHOLIDAY     9593 non-null int64\n",
      "HEFAMINC      9593 non-null int64\n",
      "PEMARITL      9593 non-null int64\n",
      "dtypes: float64(1), int64(11)\n",
      "memory usage: 974.3 KB\n"
     ]
    }
   ],
   "source": [
    "ind.info()"
   ]
  },
  {
   "cell_type": "markdown",
   "metadata": {},
   "source": [
    "### Make all -1, -2 or -3 values = NaN"
   ]
  },
  {
   "cell_type": "code",
   "execution_count": 21,
   "metadata": {},
   "outputs": [],
   "source": [
    "act=act.replace([-1,-2,-3],np.NaN)\n",
    "ind=ind.replace([-1,-2,-3],np.NaN)"
   ]
  },
  {
   "cell_type": "markdown",
   "metadata": {},
   "source": [
    "## Activity data file"
   ]
  },
  {
   "cell_type": "markdown",
   "metadata": {},
   "source": [
    "### Divide 'act' into remote (only work away from workplace) & non-remote (only work at workplace) workers"
   ]
  },
  {
   "cell_type": "markdown",
   "metadata": {},
   "source": [
    "#### Check missings on location (TEWHERE) while working (TRTIER2 = 501)"
   ]
  },
  {
   "cell_type": "code",
   "execution_count": 22,
   "metadata": {},
   "outputs": [
    {
     "name": "stdout",
     "output_type": "stream",
     "text": [
      "<class 'pandas.core.frame.DataFrame'>\n",
      "RangeIndex: 184103 entries, 0 to 184102\n",
      "Data columns (total 5 columns):\n",
      "TUCASEID       184103 non-null int64\n",
      "TEWHERE        148837 non-null float64\n",
      "TUACTDUR24     184103 non-null int64\n",
      "TUTIER1CODE    184103 non-null int64\n",
      "TRTIER2        184103 non-null int64\n",
      "dtypes: float64(1), int64(4)\n",
      "memory usage: 7.0 MB\n"
     ]
    }
   ],
   "source": [
    "act.info()"
   ]
  },
  {
   "cell_type": "code",
   "execution_count": 23,
   "metadata": {},
   "outputs": [
    {
     "data": {
      "text/plain": [
       "1.0     79859\n",
       "12.0    24129\n",
       "2.0      8374\n",
       "11.0     6308\n",
       "13.0     5428\n",
       "3.0      5326\n",
       "4.0      3934\n",
       "7.0      3141\n",
       "14.0     2393\n",
       "9.0      2316\n",
       "6.0      1749\n",
       "5.0      1711\n",
       "8.0      1624\n",
       "31.0      656\n",
       "89.0      543\n",
       "15.0      336\n",
       "16.0      232\n",
       "30.0      144\n",
       "32.0      132\n",
       "17.0      122\n",
       "10.0      106\n",
       "19.0       93\n",
       "20.0       81\n",
       "21.0       75\n",
       "18.0       25\n",
       "Name: TEWHERE, dtype: int64"
      ]
     },
     "execution_count": 23,
     "metadata": {},
     "output_type": "execute_result"
    }
   ],
   "source": [
    "act['TEWHERE'].value_counts()"
   ]
  },
  {
   "cell_type": "code",
   "execution_count": 24,
   "metadata": {},
   "outputs": [],
   "source": [
    "misloc=act[act['TEWHERE'].isnull()]"
   ]
  },
  {
   "cell_type": "code",
   "execution_count": 25,
   "metadata": {},
   "outputs": [
    {
     "data": {
      "text/plain": [
       "101     21402\n",
       "102     13011\n",
       "5001      788\n",
       "104        62\n",
       "1203        2\n",
       "1401        1\n",
       "Name: TRTIER2, dtype: int64"
      ]
     },
     "execution_count": 25,
     "metadata": {},
     "output_type": "execute_result"
    }
   ],
   "source": [
    "misloc['TRTIER2'].value_counts()"
   ]
  },
  {
   "cell_type": "markdown",
   "metadata": {},
   "source": [
    "> No code refers to working (501) - These codes in order refer to sleeping, grooming, unable to code, personal activities, relaxing & leisure, and religious & spiritual practices"
   ]
  },
  {
   "cell_type": "markdown",
   "metadata": {},
   "source": [
    "> Only possible concern is 5001, the cases that are 'unable to code', but given they have not been coded as blank, don't know or refused to answer (-1, -2, -3), they are unlikely to be an issue so analysis continued without excluding them"
   ]
  },
  {
   "cell_type": "markdown",
   "metadata": {},
   "source": [
    "### Subset act where TRTIER2 = 501 (i.e. all 'working' activities)"
   ]
  },
  {
   "cell_type": "code",
   "execution_count": 26,
   "metadata": {},
   "outputs": [],
   "source": [
    "working=act[act['TRTIER2']==501]"
   ]
  },
  {
   "cell_type": "code",
   "execution_count": 27,
   "metadata": {},
   "outputs": [
    {
     "data": {
      "text/html": [
       "<div>\n",
       "<style scoped>\n",
       "    .dataframe tbody tr th:only-of-type {\n",
       "        vertical-align: middle;\n",
       "    }\n",
       "\n",
       "    .dataframe tbody tr th {\n",
       "        vertical-align: top;\n",
       "    }\n",
       "\n",
       "    .dataframe thead th {\n",
       "        text-align: right;\n",
       "    }\n",
       "</style>\n",
       "<table border=\"1\" class=\"dataframe\">\n",
       "  <thead>\n",
       "    <tr style=\"text-align: right;\">\n",
       "      <th></th>\n",
       "      <th>TUCASEID</th>\n",
       "      <th>TEWHERE</th>\n",
       "      <th>TUACTDUR24</th>\n",
       "      <th>TUTIER1CODE</th>\n",
       "      <th>TRTIER2</th>\n",
       "    </tr>\n",
       "  </thead>\n",
       "  <tbody>\n",
       "    <tr>\n",
       "      <td>179</td>\n",
       "      <td>20180101180165</td>\n",
       "      <td>2.0</td>\n",
       "      <td>120</td>\n",
       "      <td>5</td>\n",
       "      <td>501</td>\n",
       "    </tr>\n",
       "    <tr>\n",
       "      <td>181</td>\n",
       "      <td>20180101180165</td>\n",
       "      <td>2.0</td>\n",
       "      <td>120</td>\n",
       "      <td>5</td>\n",
       "      <td>501</td>\n",
       "    </tr>\n",
       "    <tr>\n",
       "      <td>183</td>\n",
       "      <td>20180101180165</td>\n",
       "      <td>2.0</td>\n",
       "      <td>120</td>\n",
       "      <td>5</td>\n",
       "      <td>501</td>\n",
       "    </tr>\n",
       "    <tr>\n",
       "      <td>185</td>\n",
       "      <td>20180101180165</td>\n",
       "      <td>2.0</td>\n",
       "      <td>150</td>\n",
       "      <td>5</td>\n",
       "      <td>501</td>\n",
       "    </tr>\n",
       "    <tr>\n",
       "      <td>211</td>\n",
       "      <td>20180101180507</td>\n",
       "      <td>1.0</td>\n",
       "      <td>325</td>\n",
       "      <td>5</td>\n",
       "      <td>501</td>\n",
       "    </tr>\n",
       "  </tbody>\n",
       "</table>\n",
       "</div>"
      ],
      "text/plain": [
       "           TUCASEID  TEWHERE  TUACTDUR24  TUTIER1CODE  TRTIER2\n",
       "179  20180101180165      2.0         120            5      501\n",
       "181  20180101180165      2.0         120            5      501\n",
       "183  20180101180165      2.0         120            5      501\n",
       "185  20180101180165      2.0         150            5      501\n",
       "211  20180101180507      1.0         325            5      501"
      ]
     },
     "execution_count": 27,
     "metadata": {},
     "output_type": "execute_result"
    }
   ],
   "source": [
    "working.head()"
   ]
  },
  {
   "cell_type": "markdown",
   "metadata": {},
   "source": [
    "#### Make two lists of unique IDs: those who have worked at home, and those who have worked at their workplace"
   ]
  },
  {
   "cell_type": "code",
   "execution_count": 28,
   "metadata": {},
   "outputs": [],
   "source": [
    "w=working[(working['TEWHERE']==2)]\n",
    "w=w['TUCASEID'].unique()"
   ]
  },
  {
   "cell_type": "code",
   "execution_count": 29,
   "metadata": {},
   "outputs": [],
   "source": [
    "h=working[(working['TEWHERE']==1)]\n",
    "h=h['TUCASEID'].unique()"
   ]
  },
  {
   "cell_type": "markdown",
   "metadata": {},
   "source": [
    "#### Remote = those only in list 'h'; non-remote = those only in list 'w' (those in both lists have worked both at home and n their workplace)"
   ]
  },
  {
   "cell_type": "code",
   "execution_count": 30,
   "metadata": {},
   "outputs": [],
   "source": [
    "remoteIds=np.setdiff1d(h,w)"
   ]
  },
  {
   "cell_type": "code",
   "execution_count": 31,
   "metadata": {},
   "outputs": [],
   "source": [
    "nremoteIds=np.setdiff1d(w,h)"
   ]
  },
  {
   "cell_type": "markdown",
   "metadata": {},
   "source": [
    "### Subset only remote & non-remote workers & add variable for remote/non-remote "
   ]
  },
  {
   "cell_type": "code",
   "execution_count": 32,
   "metadata": {},
   "outputs": [],
   "source": [
    "act=act[(act['TUCASEID'].isin(remoteIds))|(act['TUCASEID'].isin(nremoteIds))]"
   ]
  },
  {
   "cell_type": "code",
   "execution_count": 33,
   "metadata": {},
   "outputs": [
    {
     "data": {
      "text/plain": [
       "2843"
      ]
     },
     "execution_count": 33,
     "metadata": {},
     "output_type": "execute_result"
    }
   ],
   "source": [
    "act['TUCASEID'].nunique()"
   ]
  },
  {
   "cell_type": "code",
   "execution_count": 34,
   "metadata": {},
   "outputs": [],
   "source": [
    "act['remote']=np.where(act['TUCASEID'].isin(remoteIds), 'Remote','Non-remote')"
   ]
  },
  {
   "cell_type": "markdown",
   "metadata": {},
   "source": [
    "### Subset specific activities:\n",
    "* working\n",
    "* sleeping\n",
    "* travelling\n",
    "* eating/drinking\n",
    "* caring for children (three codes to combine)\n",
    "* housework\n",
    "* socialising, relaxation & leisure\n",
    "* sports, exercise & recreation"
   ]
  },
  {
   "cell_type": "code",
   "execution_count": 35,
   "metadata": {},
   "outputs": [],
   "source": [
    "tier1codes=[18,12]\n",
    "tier2codes=[501,101,1101,301,302,303,201,1301]"
   ]
  },
  {
   "cell_type": "code",
   "execution_count": 36,
   "metadata": {},
   "outputs": [],
   "source": [
    "act=act[(act['TUTIER1CODE'].isin(tier1codes))|(act['TRTIER2'].isin(tier2codes))]"
   ]
  },
  {
   "cell_type": "markdown",
   "metadata": {},
   "source": [
    "#### Dictionary to create new column of activities"
   ]
  },
  {
   "cell_type": "code",
   "execution_count": 37,
   "metadata": {},
   "outputs": [],
   "source": [
    "newActs={\n",
    "    1:'Sleeping',\n",
    "    2:'Doing housework',\n",
    "    3:'Childcare',\n",
    "    5:'Working',\n",
    "    11:'Eating & Drinking',\n",
    "    12:'Socialising & relaxing',\n",
    "    13:'Exercising',\n",
    "    18:'Travelling'\n",
    "}"
   ]
  },
  {
   "cell_type": "code",
   "execution_count": 38,
   "metadata": {},
   "outputs": [],
   "source": [
    "act['newAct']=act['TUTIER1CODE']"
   ]
  },
  {
   "cell_type": "code",
   "execution_count": 39,
   "metadata": {},
   "outputs": [],
   "source": [
    "act['newAct']=act['newAct'].map(newActs)"
   ]
  },
  {
   "cell_type": "code",
   "execution_count": 40,
   "metadata": {},
   "outputs": [
    {
     "data": {
      "text/plain": [
       "2843"
      ]
     },
     "execution_count": 40,
     "metadata": {},
     "output_type": "execute_result"
    }
   ],
   "source": [
    "act['TUCASEID'].nunique()"
   ]
  },
  {
   "cell_type": "markdown",
   "metadata": {},
   "source": [
    "### Group data by ID, remote/non-remote & activity, summing up each the time spent doing each activity "
   ]
  },
  {
   "cell_type": "code",
   "execution_count": 41,
   "metadata": {},
   "outputs": [],
   "source": [
    "actgrouped=pd.DataFrame(act.groupby(['TUCASEID','remote','newAct'])['TUACTDUR24'].sum().unstack().stack(dropna=False)).reset_index()"
   ]
  },
  {
   "cell_type": "code",
   "execution_count": 42,
   "metadata": {},
   "outputs": [],
   "source": [
    "actgrouped.rename(columns={ actgrouped.columns[3]: \"TUACTDUR24\" }, inplace = True)"
   ]
  },
  {
   "cell_type": "markdown",
   "metadata": {},
   "source": [
    "### Replace missing activity categories with 0 minutes spent doing them (rather than being excluded from empty activities)"
   ]
  },
  {
   "cell_type": "code",
   "execution_count": 43,
   "metadata": {},
   "outputs": [],
   "source": [
    "#replace NaN with 0 minutes\n",
    "actgrouped=actgrouped.fillna(0)"
   ]
  },
  {
   "cell_type": "code",
   "execution_count": 44,
   "metadata": {},
   "outputs": [
    {
     "data": {
      "text/html": [
       "<div>\n",
       "<style scoped>\n",
       "    .dataframe tbody tr th:only-of-type {\n",
       "        vertical-align: middle;\n",
       "    }\n",
       "\n",
       "    .dataframe tbody tr th {\n",
       "        vertical-align: top;\n",
       "    }\n",
       "\n",
       "    .dataframe thead th {\n",
       "        text-align: right;\n",
       "    }\n",
       "</style>\n",
       "<table border=\"1\" class=\"dataframe\">\n",
       "  <thead>\n",
       "    <tr style=\"text-align: right;\">\n",
       "      <th></th>\n",
       "      <th>TUCASEID</th>\n",
       "      <th>remote</th>\n",
       "      <th>newAct</th>\n",
       "      <th>TUACTDUR24</th>\n",
       "    </tr>\n",
       "  </thead>\n",
       "  <tbody>\n",
       "    <tr>\n",
       "      <td>0</td>\n",
       "      <td>20180101180165</td>\n",
       "      <td>Non-remote</td>\n",
       "      <td>Childcare</td>\n",
       "      <td>117.0</td>\n",
       "    </tr>\n",
       "    <tr>\n",
       "      <td>1</td>\n",
       "      <td>20180101180165</td>\n",
       "      <td>Non-remote</td>\n",
       "      <td>Doing housework</td>\n",
       "      <td>30.0</td>\n",
       "    </tr>\n",
       "    <tr>\n",
       "      <td>2</td>\n",
       "      <td>20180101180165</td>\n",
       "      <td>Non-remote</td>\n",
       "      <td>Eating &amp; Drinking</td>\n",
       "      <td>120.0</td>\n",
       "    </tr>\n",
       "    <tr>\n",
       "      <td>3</td>\n",
       "      <td>20180101180165</td>\n",
       "      <td>Non-remote</td>\n",
       "      <td>Exercising</td>\n",
       "      <td>0.0</td>\n",
       "    </tr>\n",
       "    <tr>\n",
       "      <td>4</td>\n",
       "      <td>20180101180165</td>\n",
       "      <td>Non-remote</td>\n",
       "      <td>Sleeping</td>\n",
       "      <td>479.0</td>\n",
       "    </tr>\n",
       "    <tr>\n",
       "      <td>5</td>\n",
       "      <td>20180101180165</td>\n",
       "      <td>Non-remote</td>\n",
       "      <td>Socialising &amp; relaxing</td>\n",
       "      <td>30.0</td>\n",
       "    </tr>\n",
       "    <tr>\n",
       "      <td>6</td>\n",
       "      <td>20180101180165</td>\n",
       "      <td>Non-remote</td>\n",
       "      <td>Travelling</td>\n",
       "      <td>35.0</td>\n",
       "    </tr>\n",
       "    <tr>\n",
       "      <td>7</td>\n",
       "      <td>20180101180165</td>\n",
       "      <td>Non-remote</td>\n",
       "      <td>Working</td>\n",
       "      <td>510.0</td>\n",
       "    </tr>\n",
       "    <tr>\n",
       "      <td>8</td>\n",
       "      <td>20180101180507</td>\n",
       "      <td>Remote</td>\n",
       "      <td>Childcare</td>\n",
       "      <td>34.0</td>\n",
       "    </tr>\n",
       "    <tr>\n",
       "      <td>9</td>\n",
       "      <td>20180101180507</td>\n",
       "      <td>Remote</td>\n",
       "      <td>Doing housework</td>\n",
       "      <td>0.0</td>\n",
       "    </tr>\n",
       "    <tr>\n",
       "      <td>10</td>\n",
       "      <td>20180101180507</td>\n",
       "      <td>Remote</td>\n",
       "      <td>Eating &amp; Drinking</td>\n",
       "      <td>60.0</td>\n",
       "    </tr>\n",
       "    <tr>\n",
       "      <td>11</td>\n",
       "      <td>20180101180507</td>\n",
       "      <td>Remote</td>\n",
       "      <td>Exercising</td>\n",
       "      <td>0.0</td>\n",
       "    </tr>\n",
       "  </tbody>\n",
       "</table>\n",
       "</div>"
      ],
      "text/plain": [
       "          TUCASEID      remote                  newAct  TUACTDUR24\n",
       "0   20180101180165  Non-remote               Childcare       117.0\n",
       "1   20180101180165  Non-remote         Doing housework        30.0\n",
       "2   20180101180165  Non-remote       Eating & Drinking       120.0\n",
       "3   20180101180165  Non-remote              Exercising         0.0\n",
       "4   20180101180165  Non-remote                Sleeping       479.0\n",
       "5   20180101180165  Non-remote  Socialising & relaxing        30.0\n",
       "6   20180101180165  Non-remote              Travelling        35.0\n",
       "7   20180101180165  Non-remote                 Working       510.0\n",
       "8   20180101180507      Remote               Childcare        34.0\n",
       "9   20180101180507      Remote         Doing housework         0.0\n",
       "10  20180101180507      Remote       Eating & Drinking        60.0\n",
       "11  20180101180507      Remote              Exercising         0.0"
      ]
     },
     "execution_count": 44,
     "metadata": {},
     "output_type": "execute_result"
    }
   ],
   "source": [
    "actgrouped.head(12)"
   ]
  },
  {
   "cell_type": "markdown",
   "metadata": {},
   "source": [
    "## Merge aggregated activities data with 'ind' data (left join keeping all TUCASEIDs from activity file)"
   ]
  },
  {
   "cell_type": "code",
   "execution_count": 45,
   "metadata": {},
   "outputs": [],
   "source": [
    "df=actgrouped.merge(ind, on='TUCASEID',how='left')"
   ]
  },
  {
   "cell_type": "markdown",
   "metadata": {},
   "source": [
    "### Subset data to 'typical worker' (employed & not absent from work last week & age 18 or over)"
   ]
  },
  {
   "cell_type": "code",
   "execution_count": 46,
   "metadata": {},
   "outputs": [],
   "source": [
    "df=df[(df['TELFS']==1)& (df['TEAGE']>=18)]"
   ]
  },
  {
   "cell_type": "markdown",
   "metadata": {},
   "source": [
    "### Remove respondents whose diary was on weekend day or a holiday"
   ]
  },
  {
   "cell_type": "code",
   "execution_count": 47,
   "metadata": {},
   "outputs": [],
   "source": [
    "df=df[((df['TUDIARYDAY']!=1)&(df['TUDIARYDAY']!=7)&(df['TRHOLIDAY']==0))]"
   ]
  },
  {
   "cell_type": "code",
   "execution_count": 48,
   "metadata": {},
   "outputs": [
    {
     "data": {
      "text/plain": [
       "1974"
      ]
     },
     "execution_count": 48,
     "metadata": {},
     "output_type": "execute_result"
    }
   ],
   "source": [
    "df['TUCASEID'].nunique()"
   ]
  },
  {
   "cell_type": "markdown",
   "metadata": {},
   "source": [
    "## Histograms"
   ]
  },
  {
   "cell_type": "code",
   "execution_count": 50,
   "metadata": {},
   "outputs": [],
   "source": [
    "import matplotlib.pyplot as plt\n",
    "import seaborn as sns"
   ]
  },
  {
   "cell_type": "markdown",
   "metadata": {},
   "source": [
    "### Create new separate dataframes of remote & non-remote, subsetting just 'working'"
   ]
  },
  {
   "cell_type": "code",
   "execution_count": 51,
   "metadata": {},
   "outputs": [],
   "source": [
    "remwork=df[(df['newAct']=='Working')&(df['remote']=='Remote')]"
   ]
  },
  {
   "cell_type": "code",
   "execution_count": 52,
   "metadata": {},
   "outputs": [],
   "source": [
    "nremwork=df[(df['newAct']=='Working')&(df['remote']=='Non-remote')]"
   ]
  },
  {
   "cell_type": "markdown",
   "metadata": {},
   "source": [
    "### Create test histogram"
   ]
  },
  {
   "cell_type": "code",
   "execution_count": 53,
   "metadata": {},
   "outputs": [
    {
     "data": {
      "text/plain": [
       "<matplotlib.axes._subplots.AxesSubplot at 0x117d87210>"
      ]
     },
     "execution_count": 53,
     "metadata": {},
     "output_type": "execute_result"
    },
    {
     "data": {
      "image/png": "[encoded data removed]",
      "text/plain": [
       "<Figure size 432x288 with 1 Axes>"
      ]
     },
     "metadata": {
      "needs_background": "light"
     },
     "output_type": "display_data"
    }
   ],
   "source": [
    "plt.xlim(0,1440)\n",
    "sns.kdeplot(remwork['TUACTDUR24'],shade=True, kernel='epa')\n",
    "sns.kdeplot(nremwork['TUACTDUR24'],shade=True, kernel='epa')"
   ]
  },
  {
   "cell_type": "markdown",
   "metadata": {},
   "source": [
    "## Create datasets to write to csv for each visualisation"
   ]
  },
  {
   "cell_type": "markdown",
   "metadata": {},
   "source": [
    "### For density plots, get all data but without childcare"
   ]
  },
  {
   "cell_type": "code",
   "execution_count": 61,
   "metadata": {},
   "outputs": [],
   "source": [
    "density = df[df['newAct']!='Childcare']"
   ]
  },
  {
   "cell_type": "code",
   "execution_count": 62,
   "metadata": {},
   "outputs": [],
   "source": [
    "density=density[['TUCASEID', 'newAct', 'remote','TUACTDUR24']]"
   ]
  },
  {
   "cell_type": "code",
   "execution_count": 63,
   "metadata": {},
   "outputs": [
    {
     "data": {
      "text/html": [
       "<div>\n",
       "<style scoped>\n",
       "    .dataframe tbody tr th:only-of-type {\n",
       "        vertical-align: middle;\n",
       "    }\n",
       "\n",
       "    .dataframe tbody tr th {\n",
       "        vertical-align: top;\n",
       "    }\n",
       "\n",
       "    .dataframe thead th {\n",
       "        text-align: right;\n",
       "    }\n",
       "</style>\n",
       "<table border=\"1\" class=\"dataframe\">\n",
       "  <thead>\n",
       "    <tr style=\"text-align: right;\">\n",
       "      <th></th>\n",
       "      <th>TUCASEID</th>\n",
       "      <th>newAct</th>\n",
       "      <th>remote</th>\n",
       "      <th>TUACTDUR24</th>\n",
       "    </tr>\n",
       "  </thead>\n",
       "  <tbody>\n",
       "    <tr>\n",
       "      <td>1</td>\n",
       "      <td>20180101180165</td>\n",
       "      <td>Doing housework</td>\n",
       "      <td>Non-remote</td>\n",
       "      <td>30.0</td>\n",
       "    </tr>\n",
       "    <tr>\n",
       "      <td>2</td>\n",
       "      <td>20180101180165</td>\n",
       "      <td>Eating &amp; Drinking</td>\n",
       "      <td>Non-remote</td>\n",
       "      <td>120.0</td>\n",
       "    </tr>\n",
       "    <tr>\n",
       "      <td>3</td>\n",
       "      <td>20180101180165</td>\n",
       "      <td>Exercising</td>\n",
       "      <td>Non-remote</td>\n",
       "      <td>0.0</td>\n",
       "    </tr>\n",
       "    <tr>\n",
       "      <td>4</td>\n",
       "      <td>20180101180165</td>\n",
       "      <td>Sleeping</td>\n",
       "      <td>Non-remote</td>\n",
       "      <td>479.0</td>\n",
       "    </tr>\n",
       "    <tr>\n",
       "      <td>5</td>\n",
       "      <td>20180101180165</td>\n",
       "      <td>Socialising &amp; relaxing</td>\n",
       "      <td>Non-remote</td>\n",
       "      <td>30.0</td>\n",
       "    </tr>\n",
       "  </tbody>\n",
       "</table>\n",
       "</div>"
      ],
      "text/plain": [
       "         TUCASEID                  newAct      remote  TUACTDUR24\n",
       "1  20180101180165         Doing housework  Non-remote        30.0\n",
       "2  20180101180165       Eating & Drinking  Non-remote       120.0\n",
       "3  20180101180165              Exercising  Non-remote         0.0\n",
       "4  20180101180165                Sleeping  Non-remote       479.0\n",
       "5  20180101180165  Socialising & relaxing  Non-remote        30.0"
      ]
     },
     "execution_count": 63,
     "metadata": {},
     "output_type": "execute_result"
    }
   ],
   "source": [
    "density.head()"
   ]
  },
  {
   "cell_type": "code",
   "execution_count": 363,
   "metadata": {},
   "outputs": [],
   "source": [
    "density.to_csv(\"density.csv\", index=False)"
   ]
  },
  {
   "cell_type": "markdown",
   "metadata": {},
   "source": [
    "#### Calculate average time sleeping for remote/non-remote for text div statistic"
   ]
  },
  {
   "cell_type": "code",
   "execution_count": 64,
   "metadata": {},
   "outputs": [
    {
     "data": {
      "text/html": [
       "<div>\n",
       "<style scoped>\n",
       "    .dataframe tbody tr th:only-of-type {\n",
       "        vertical-align: middle;\n",
       "    }\n",
       "\n",
       "    .dataframe tbody tr th {\n",
       "        vertical-align: top;\n",
       "    }\n",
       "\n",
       "    .dataframe thead th {\n",
       "        text-align: right;\n",
       "    }\n",
       "</style>\n",
       "<table border=\"1\" class=\"dataframe\">\n",
       "  <thead>\n",
       "    <tr style=\"text-align: right;\">\n",
       "      <th></th>\n",
       "      <th>TUCASEID</th>\n",
       "      <th>TUACTDUR24</th>\n",
       "    </tr>\n",
       "    <tr>\n",
       "      <th>remote</th>\n",
       "      <th></th>\n",
       "      <th></th>\n",
       "    </tr>\n",
       "  </thead>\n",
       "  <tbody>\n",
       "    <tr>\n",
       "      <td>Non-remote</td>\n",
       "      <td>2.02e+13</td>\n",
       "      <td>467.29</td>\n",
       "    </tr>\n",
       "    <tr>\n",
       "      <td>Remote</td>\n",
       "      <td>2.02e+13</td>\n",
       "      <td>488.90</td>\n",
       "    </tr>\n",
       "  </tbody>\n",
       "</table>\n",
       "</div>"
      ],
      "text/plain": [
       "            TUCASEID  TUACTDUR24\n",
       "remote                          \n",
       "Non-remote  2.02e+13      467.29\n",
       "Remote      2.02e+13      488.90"
      ]
     },
     "execution_count": 64,
     "metadata": {},
     "output_type": "execute_result"
    }
   ],
   "source": [
    "density[density['newAct'] == 'Sleeping'].groupby('remote').mean()"
   ]
  },
  {
   "cell_type": "markdown",
   "metadata": {},
   "source": [
    "### For stacked bar, keep all activities and keep sex, age & children columns"
   ]
  },
  {
   "cell_type": "code",
   "execution_count": 65,
   "metadata": {},
   "outputs": [],
   "source": [
    "bar=df[['TUCASEID','remote','TESEX','TEAGE','TRCHILDNUM','newAct','TUACTDUR24']]"
   ]
  },
  {
   "cell_type": "code",
   "execution_count": 66,
   "metadata": {},
   "outputs": [
    {
     "data": {
      "text/html": [
       "<div>\n",
       "<style scoped>\n",
       "    .dataframe tbody tr th:only-of-type {\n",
       "        vertical-align: middle;\n",
       "    }\n",
       "\n",
       "    .dataframe tbody tr th {\n",
       "        vertical-align: top;\n",
       "    }\n",
       "\n",
       "    .dataframe thead th {\n",
       "        text-align: right;\n",
       "    }\n",
       "</style>\n",
       "<table border=\"1\" class=\"dataframe\">\n",
       "  <thead>\n",
       "    <tr style=\"text-align: right;\">\n",
       "      <th></th>\n",
       "      <th>TUCASEID</th>\n",
       "      <th>remote</th>\n",
       "      <th>TESEX</th>\n",
       "      <th>TEAGE</th>\n",
       "      <th>TRCHILDNUM</th>\n",
       "      <th>newAct</th>\n",
       "      <th>TUACTDUR24</th>\n",
       "    </tr>\n",
       "  </thead>\n",
       "  <tbody>\n",
       "    <tr>\n",
       "      <td>0</td>\n",
       "      <td>20180101180165</td>\n",
       "      <td>Non-remote</td>\n",
       "      <td>2</td>\n",
       "      <td>30</td>\n",
       "      <td>2</td>\n",
       "      <td>Childcare</td>\n",
       "      <td>117.0</td>\n",
       "    </tr>\n",
       "    <tr>\n",
       "      <td>1</td>\n",
       "      <td>20180101180165</td>\n",
       "      <td>Non-remote</td>\n",
       "      <td>2</td>\n",
       "      <td>30</td>\n",
       "      <td>2</td>\n",
       "      <td>Doing housework</td>\n",
       "      <td>30.0</td>\n",
       "    </tr>\n",
       "    <tr>\n",
       "      <td>2</td>\n",
       "      <td>20180101180165</td>\n",
       "      <td>Non-remote</td>\n",
       "      <td>2</td>\n",
       "      <td>30</td>\n",
       "      <td>2</td>\n",
       "      <td>Eating &amp; Drinking</td>\n",
       "      <td>120.0</td>\n",
       "    </tr>\n",
       "    <tr>\n",
       "      <td>3</td>\n",
       "      <td>20180101180165</td>\n",
       "      <td>Non-remote</td>\n",
       "      <td>2</td>\n",
       "      <td>30</td>\n",
       "      <td>2</td>\n",
       "      <td>Exercising</td>\n",
       "      <td>0.0</td>\n",
       "    </tr>\n",
       "    <tr>\n",
       "      <td>4</td>\n",
       "      <td>20180101180165</td>\n",
       "      <td>Non-remote</td>\n",
       "      <td>2</td>\n",
       "      <td>30</td>\n",
       "      <td>2</td>\n",
       "      <td>Sleeping</td>\n",
       "      <td>479.0</td>\n",
       "    </tr>\n",
       "  </tbody>\n",
       "</table>\n",
       "</div>"
      ],
      "text/plain": [
       "         TUCASEID      remote  TESEX  TEAGE  TRCHILDNUM             newAct  \\\n",
       "0  20180101180165  Non-remote      2     30           2          Childcare   \n",
       "1  20180101180165  Non-remote      2     30           2    Doing housework   \n",
       "2  20180101180165  Non-remote      2     30           2  Eating & Drinking   \n",
       "3  20180101180165  Non-remote      2     30           2         Exercising   \n",
       "4  20180101180165  Non-remote      2     30           2           Sleeping   \n",
       "\n",
       "   TUACTDUR24  \n",
       "0       117.0  \n",
       "1        30.0  \n",
       "2       120.0  \n",
       "3         0.0  \n",
       "4       479.0  "
      ]
     },
     "execution_count": 66,
     "metadata": {},
     "output_type": "execute_result"
    }
   ],
   "source": [
    "bar.head()"
   ]
  },
  {
   "cell_type": "markdown",
   "metadata": {},
   "source": [
    "### Reshape bar chart data using pivot table"
   ]
  },
  {
   "cell_type": "code",
   "execution_count": 67,
   "metadata": {},
   "outputs": [],
   "source": [
    "bar=bar.pivot_table(index=['TUCASEID', 'remote', 'TESEX', 'TEAGE', 'TRCHILDNUM'], columns='newAct', values='TUACTDUR24').reset_index()"
   ]
  },
  {
   "cell_type": "code",
   "execution_count": 68,
   "metadata": {},
   "outputs": [
    {
     "data": {
      "text/html": [
       "<div>\n",
       "<style scoped>\n",
       "    .dataframe tbody tr th:only-of-type {\n",
       "        vertical-align: middle;\n",
       "    }\n",
       "\n",
       "    .dataframe tbody tr th {\n",
       "        vertical-align: top;\n",
       "    }\n",
       "\n",
       "    .dataframe thead th {\n",
       "        text-align: right;\n",
       "    }\n",
       "</style>\n",
       "<table border=\"1\" class=\"dataframe\">\n",
       "  <thead>\n",
       "    <tr style=\"text-align: right;\">\n",
       "      <th>newAct</th>\n",
       "      <th>TUCASEID</th>\n",
       "      <th>remote</th>\n",
       "      <th>TESEX</th>\n",
       "      <th>TEAGE</th>\n",
       "      <th>TRCHILDNUM</th>\n",
       "      <th>Childcare</th>\n",
       "      <th>Doing housework</th>\n",
       "      <th>Eating &amp; Drinking</th>\n",
       "      <th>Exercising</th>\n",
       "      <th>Sleeping</th>\n",
       "      <th>Socialising &amp; relaxing</th>\n",
       "      <th>Travelling</th>\n",
       "      <th>Working</th>\n",
       "    </tr>\n",
       "  </thead>\n",
       "  <tbody>\n",
       "    <tr>\n",
       "      <td>0</td>\n",
       "      <td>20180101180165</td>\n",
       "      <td>Non-remote</td>\n",
       "      <td>2</td>\n",
       "      <td>30</td>\n",
       "      <td>2</td>\n",
       "      <td>117.0</td>\n",
       "      <td>30.0</td>\n",
       "      <td>120.0</td>\n",
       "      <td>0.0</td>\n",
       "      <td>479.0</td>\n",
       "      <td>30.0</td>\n",
       "      <td>35.0</td>\n",
       "      <td>510.0</td>\n",
       "    </tr>\n",
       "    <tr>\n",
       "      <td>1</td>\n",
       "      <td>20180101180507</td>\n",
       "      <td>Remote</td>\n",
       "      <td>1</td>\n",
       "      <td>47</td>\n",
       "      <td>1</td>\n",
       "      <td>34.0</td>\n",
       "      <td>0.0</td>\n",
       "      <td>60.0</td>\n",
       "      <td>0.0</td>\n",
       "      <td>525.0</td>\n",
       "      <td>184.0</td>\n",
       "      <td>97.0</td>\n",
       "      <td>505.0</td>\n",
       "    </tr>\n",
       "    <tr>\n",
       "      <td>2</td>\n",
       "      <td>20180101180524</td>\n",
       "      <td>Remote</td>\n",
       "      <td>1</td>\n",
       "      <td>37</td>\n",
       "      <td>1</td>\n",
       "      <td>20.0</td>\n",
       "      <td>0.0</td>\n",
       "      <td>20.0</td>\n",
       "      <td>0.0</td>\n",
       "      <td>500.0</td>\n",
       "      <td>200.0</td>\n",
       "      <td>20.0</td>\n",
       "      <td>605.0</td>\n",
       "    </tr>\n",
       "    <tr>\n",
       "      <td>3</td>\n",
       "      <td>20180101180542</td>\n",
       "      <td>Remote</td>\n",
       "      <td>1</td>\n",
       "      <td>48</td>\n",
       "      <td>2</td>\n",
       "      <td>300.0</td>\n",
       "      <td>0.0</td>\n",
       "      <td>120.0</td>\n",
       "      <td>0.0</td>\n",
       "      <td>375.0</td>\n",
       "      <td>90.0</td>\n",
       "      <td>130.0</td>\n",
       "      <td>340.0</td>\n",
       "    </tr>\n",
       "    <tr>\n",
       "      <td>4</td>\n",
       "      <td>20180101180549</td>\n",
       "      <td>Remote</td>\n",
       "      <td>2</td>\n",
       "      <td>44</td>\n",
       "      <td>2</td>\n",
       "      <td>104.0</td>\n",
       "      <td>174.0</td>\n",
       "      <td>55.0</td>\n",
       "      <td>0.0</td>\n",
       "      <td>540.0</td>\n",
       "      <td>170.0</td>\n",
       "      <td>50.0</td>\n",
       "      <td>185.0</td>\n",
       "    </tr>\n",
       "  </tbody>\n",
       "</table>\n",
       "</div>"
      ],
      "text/plain": [
       "newAct        TUCASEID      remote  TESEX  TEAGE  TRCHILDNUM  Childcare  \\\n",
       "0       20180101180165  Non-remote      2     30           2      117.0   \n",
       "1       20180101180507      Remote      1     47           1       34.0   \n",
       "2       20180101180524      Remote      1     37           1       20.0   \n",
       "3       20180101180542      Remote      1     48           2      300.0   \n",
       "4       20180101180549      Remote      2     44           2      104.0   \n",
       "\n",
       "newAct  Doing housework  Eating & Drinking  Exercising  Sleeping  \\\n",
       "0                  30.0              120.0         0.0     479.0   \n",
       "1                   0.0               60.0         0.0     525.0   \n",
       "2                   0.0               20.0         0.0     500.0   \n",
       "3                   0.0              120.0         0.0     375.0   \n",
       "4                 174.0               55.0         0.0     540.0   \n",
       "\n",
       "newAct  Socialising & relaxing  Travelling  Working  \n",
       "0                         30.0        35.0    510.0  \n",
       "1                        184.0        97.0    505.0  \n",
       "2                        200.0        20.0    605.0  \n",
       "3                         90.0       130.0    340.0  \n",
       "4                        170.0        50.0    185.0  "
      ]
     },
     "execution_count": 68,
     "metadata": {},
     "output_type": "execute_result"
    }
   ],
   "source": [
    "bar.head()"
   ]
  },
  {
   "cell_type": "markdown",
   "metadata": {},
   "source": [
    "### Create function to assign age bands & create new age band column"
   ]
  },
  {
   "cell_type": "code",
   "execution_count": 369,
   "metadata": {},
   "outputs": [],
   "source": [
    "def get_ageband(value):\n",
    "    ageband = None\n",
    "    if (value >=18) & (value <35):\n",
    "        ageband = \"18 to 34\"\n",
    "    elif (value >34) & (value <54):\n",
    "        ageband = \"35 to 54\"\n",
    "    else:\n",
    "        ageband = \"55+\"\n",
    "    return ageband"
   ]
  },
  {
   "cell_type": "code",
   "execution_count": 370,
   "metadata": {},
   "outputs": [],
   "source": [
    "bar[\"ageband\"] = bar.TEAGE.apply(get_ageband)"
   ]
  },
  {
   "cell_type": "markdown",
   "metadata": {},
   "source": [
    "### Add binary column for having/not having children & Add sex column coding 1/2 into male/female"
   ]
  },
  {
   "cell_type": "code",
   "execution_count": 371,
   "metadata": {},
   "outputs": [],
   "source": [
    "bar['children']= np.where(bar['TRCHILDNUM']==0, 'does not have','has')"
   ]
  },
  {
   "cell_type": "code",
   "execution_count": 372,
   "metadata": {},
   "outputs": [],
   "source": [
    "bar['sex'] = np.where(bar['TESEX']==2, 'female','male')"
   ]
  },
  {
   "cell_type": "markdown",
   "metadata": {},
   "source": [
    "### Group by remote/non-remote, age band, sex & children; taking the average time spent on each activity"
   ]
  },
  {
   "cell_type": "code",
   "execution_count": 381,
   "metadata": {},
   "outputs": [],
   "source": [
    "barAverage = pd.DataFrame(bar.groupby(['remote','ageband','sex','children'])[['Childcare','Eating & Drinking','Exercising','Doing housework','Sleeping','Socialising & relaxing','Travelling','Working']].mean().reset_index())"
   ]
  },
  {
   "cell_type": "code",
   "execution_count": 382,
   "metadata": {},
   "outputs": [
    {
     "data": {
      "text/html": [
       "<div>\n",
       "<style scoped>\n",
       "    .dataframe tbody tr th:only-of-type {\n",
       "        vertical-align: middle;\n",
       "    }\n",
       "\n",
       "    .dataframe tbody tr th {\n",
       "        vertical-align: top;\n",
       "    }\n",
       "\n",
       "    .dataframe thead th {\n",
       "        text-align: right;\n",
       "    }\n",
       "</style>\n",
       "<table border=\"1\" class=\"dataframe\">\n",
       "  <thead>\n",
       "    <tr style=\"text-align: right;\">\n",
       "      <th>newAct</th>\n",
       "      <th>remote</th>\n",
       "      <th>ageband</th>\n",
       "      <th>sex</th>\n",
       "      <th>children</th>\n",
       "      <th>Childcare</th>\n",
       "      <th>Eating &amp; Drinking</th>\n",
       "      <th>Exercising</th>\n",
       "      <th>Doing housework</th>\n",
       "      <th>Sleeping</th>\n",
       "      <th>Socialising &amp; relaxing</th>\n",
       "      <th>Travelling</th>\n",
       "      <th>Working</th>\n",
       "    </tr>\n",
       "  </thead>\n",
       "  <tbody>\n",
       "    <tr>\n",
       "      <td>0</td>\n",
       "      <td>Non-remote</td>\n",
       "      <td>18 to 34</td>\n",
       "      <td>female</td>\n",
       "      <td>does not have</td>\n",
       "      <td>0.00</td>\n",
       "      <td>61.03</td>\n",
       "      <td>12.85</td>\n",
       "      <td>13.93</td>\n",
       "      <td>486.93</td>\n",
       "      <td>153.92</td>\n",
       "      <td>70.55</td>\n",
       "      <td>485.19</td>\n",
       "    </tr>\n",
       "    <tr>\n",
       "      <td>1</td>\n",
       "      <td>Non-remote</td>\n",
       "      <td>18 to 34</td>\n",
       "      <td>female</td>\n",
       "      <td>has</td>\n",
       "      <td>88.28</td>\n",
       "      <td>45.45</td>\n",
       "      <td>5.96</td>\n",
       "      <td>22.75</td>\n",
       "      <td>483.73</td>\n",
       "      <td>111.18</td>\n",
       "      <td>72.62</td>\n",
       "      <td>473.84</td>\n",
       "    </tr>\n",
       "    <tr>\n",
       "      <td>2</td>\n",
       "      <td>Non-remote</td>\n",
       "      <td>18 to 34</td>\n",
       "      <td>male</td>\n",
       "      <td>does not have</td>\n",
       "      <td>0.00</td>\n",
       "      <td>56.37</td>\n",
       "      <td>11.28</td>\n",
       "      <td>8.44</td>\n",
       "      <td>480.54</td>\n",
       "      <td>197.83</td>\n",
       "      <td>86.59</td>\n",
       "      <td>483.95</td>\n",
       "    </tr>\n",
       "    <tr>\n",
       "      <td>3</td>\n",
       "      <td>Non-remote</td>\n",
       "      <td>18 to 34</td>\n",
       "      <td>male</td>\n",
       "      <td>has</td>\n",
       "      <td>45.64</td>\n",
       "      <td>58.89</td>\n",
       "      <td>8.76</td>\n",
       "      <td>8.46</td>\n",
       "      <td>475.81</td>\n",
       "      <td>151.20</td>\n",
       "      <td>84.70</td>\n",
       "      <td>497.67</td>\n",
       "    </tr>\n",
       "    <tr>\n",
       "      <td>4</td>\n",
       "      <td>Non-remote</td>\n",
       "      <td>35 to 54</td>\n",
       "      <td>female</td>\n",
       "      <td>does not have</td>\n",
       "      <td>0.00</td>\n",
       "      <td>62.85</td>\n",
       "      <td>10.40</td>\n",
       "      <td>16.05</td>\n",
       "      <td>466.11</td>\n",
       "      <td>132.69</td>\n",
       "      <td>75.75</td>\n",
       "      <td>507.33</td>\n",
       "    </tr>\n",
       "    <tr>\n",
       "      <td>5</td>\n",
       "      <td>Non-remote</td>\n",
       "      <td>35 to 54</td>\n",
       "      <td>female</td>\n",
       "      <td>has</td>\n",
       "      <td>54.49</td>\n",
       "      <td>48.64</td>\n",
       "      <td>6.06</td>\n",
       "      <td>20.04</td>\n",
       "      <td>460.36</td>\n",
       "      <td>120.00</td>\n",
       "      <td>94.67</td>\n",
       "      <td>486.62</td>\n",
       "    </tr>\n",
       "    <tr>\n",
       "      <td>6</td>\n",
       "      <td>Non-remote</td>\n",
       "      <td>35 to 54</td>\n",
       "      <td>male</td>\n",
       "      <td>does not have</td>\n",
       "      <td>0.00</td>\n",
       "      <td>62.52</td>\n",
       "      <td>12.17</td>\n",
       "      <td>7.97</td>\n",
       "      <td>486.71</td>\n",
       "      <td>169.73</td>\n",
       "      <td>77.15</td>\n",
       "      <td>519.21</td>\n",
       "    </tr>\n",
       "    <tr>\n",
       "      <td>7</td>\n",
       "      <td>Non-remote</td>\n",
       "      <td>35 to 54</td>\n",
       "      <td>male</td>\n",
       "      <td>has</td>\n",
       "      <td>40.39</td>\n",
       "      <td>63.51</td>\n",
       "      <td>17.37</td>\n",
       "      <td>4.23</td>\n",
       "      <td>451.91</td>\n",
       "      <td>140.21</td>\n",
       "      <td>92.49</td>\n",
       "      <td>516.07</td>\n",
       "    </tr>\n",
       "    <tr>\n",
       "      <td>8</td>\n",
       "      <td>Non-remote</td>\n",
       "      <td>55+</td>\n",
       "      <td>female</td>\n",
       "      <td>does not have</td>\n",
       "      <td>0.00</td>\n",
       "      <td>58.76</td>\n",
       "      <td>10.05</td>\n",
       "      <td>20.83</td>\n",
       "      <td>458.38</td>\n",
       "      <td>167.68</td>\n",
       "      <td>73.79</td>\n",
       "      <td>482.86</td>\n",
       "    </tr>\n",
       "    <tr>\n",
       "      <td>9</td>\n",
       "      <td>Non-remote</td>\n",
       "      <td>55+</td>\n",
       "      <td>female</td>\n",
       "      <td>has</td>\n",
       "      <td>21.10</td>\n",
       "      <td>49.62</td>\n",
       "      <td>5.43</td>\n",
       "      <td>18.19</td>\n",
       "      <td>455.00</td>\n",
       "      <td>168.86</td>\n",
       "      <td>80.14</td>\n",
       "      <td>451.43</td>\n",
       "    </tr>\n",
       "    <tr>\n",
       "      <td>10</td>\n",
       "      <td>Non-remote</td>\n",
       "      <td>55+</td>\n",
       "      <td>male</td>\n",
       "      <td>does not have</td>\n",
       "      <td>0.00</td>\n",
       "      <td>67.22</td>\n",
       "      <td>10.60</td>\n",
       "      <td>6.99</td>\n",
       "      <td>462.59</td>\n",
       "      <td>190.01</td>\n",
       "      <td>81.02</td>\n",
       "      <td>490.78</td>\n",
       "    </tr>\n",
       "    <tr>\n",
       "      <td>11</td>\n",
       "      <td>Non-remote</td>\n",
       "      <td>55+</td>\n",
       "      <td>male</td>\n",
       "      <td>has</td>\n",
       "      <td>12.98</td>\n",
       "      <td>71.22</td>\n",
       "      <td>7.68</td>\n",
       "      <td>4.85</td>\n",
       "      <td>460.80</td>\n",
       "      <td>155.51</td>\n",
       "      <td>73.98</td>\n",
       "      <td>531.32</td>\n",
       "    </tr>\n",
       "    <tr>\n",
       "      <td>12</td>\n",
       "      <td>Remote</td>\n",
       "      <td>18 to 34</td>\n",
       "      <td>female</td>\n",
       "      <td>does not have</td>\n",
       "      <td>0.00</td>\n",
       "      <td>49.86</td>\n",
       "      <td>8.93</td>\n",
       "      <td>75.14</td>\n",
       "      <td>503.14</td>\n",
       "      <td>235.36</td>\n",
       "      <td>70.79</td>\n",
       "      <td>289.29</td>\n",
       "    </tr>\n",
       "    <tr>\n",
       "      <td>13</td>\n",
       "      <td>Remote</td>\n",
       "      <td>18 to 34</td>\n",
       "      <td>female</td>\n",
       "      <td>has</td>\n",
       "      <td>156.69</td>\n",
       "      <td>45.00</td>\n",
       "      <td>14.62</td>\n",
       "      <td>26.77</td>\n",
       "      <td>480.23</td>\n",
       "      <td>127.38</td>\n",
       "      <td>74.00</td>\n",
       "      <td>321.15</td>\n",
       "    </tr>\n",
       "    <tr>\n",
       "      <td>14</td>\n",
       "      <td>Remote</td>\n",
       "      <td>18 to 34</td>\n",
       "      <td>male</td>\n",
       "      <td>does not have</td>\n",
       "      <td>0.00</td>\n",
       "      <td>115.00</td>\n",
       "      <td>10.00</td>\n",
       "      <td>18.33</td>\n",
       "      <td>455.00</td>\n",
       "      <td>225.50</td>\n",
       "      <td>35.83</td>\n",
       "      <td>469.17</td>\n",
       "    </tr>\n",
       "    <tr>\n",
       "      <td>15</td>\n",
       "      <td>Remote</td>\n",
       "      <td>18 to 34</td>\n",
       "      <td>male</td>\n",
       "      <td>has</td>\n",
       "      <td>15.00</td>\n",
       "      <td>105.00</td>\n",
       "      <td>0.00</td>\n",
       "      <td>0.00</td>\n",
       "      <td>475.00</td>\n",
       "      <td>240.00</td>\n",
       "      <td>12.50</td>\n",
       "      <td>537.50</td>\n",
       "    </tr>\n",
       "    <tr>\n",
       "      <td>16</td>\n",
       "      <td>Remote</td>\n",
       "      <td>35 to 54</td>\n",
       "      <td>female</td>\n",
       "      <td>does not have</td>\n",
       "      <td>0.00</td>\n",
       "      <td>53.21</td>\n",
       "      <td>11.04</td>\n",
       "      <td>33.25</td>\n",
       "      <td>469.25</td>\n",
       "      <td>189.96</td>\n",
       "      <td>42.17</td>\n",
       "      <td>416.83</td>\n",
       "    </tr>\n",
       "    <tr>\n",
       "      <td>17</td>\n",
       "      <td>Remote</td>\n",
       "      <td>35 to 54</td>\n",
       "      <td>female</td>\n",
       "      <td>has</td>\n",
       "      <td>95.57</td>\n",
       "      <td>64.02</td>\n",
       "      <td>15.57</td>\n",
       "      <td>51.64</td>\n",
       "      <td>486.55</td>\n",
       "      <td>144.38</td>\n",
       "      <td>67.58</td>\n",
       "      <td>347.04</td>\n",
       "    </tr>\n",
       "    <tr>\n",
       "      <td>18</td>\n",
       "      <td>Remote</td>\n",
       "      <td>35 to 54</td>\n",
       "      <td>male</td>\n",
       "      <td>does not have</td>\n",
       "      <td>0.00</td>\n",
       "      <td>75.56</td>\n",
       "      <td>16.88</td>\n",
       "      <td>25.62</td>\n",
       "      <td>502.00</td>\n",
       "      <td>242.50</td>\n",
       "      <td>36.69</td>\n",
       "      <td>369.56</td>\n",
       "    </tr>\n",
       "    <tr>\n",
       "      <td>19</td>\n",
       "      <td>Remote</td>\n",
       "      <td>35 to 54</td>\n",
       "      <td>male</td>\n",
       "      <td>has</td>\n",
       "      <td>97.80</td>\n",
       "      <td>69.00</td>\n",
       "      <td>17.89</td>\n",
       "      <td>10.36</td>\n",
       "      <td>485.77</td>\n",
       "      <td>168.93</td>\n",
       "      <td>60.45</td>\n",
       "      <td>416.52</td>\n",
       "    </tr>\n",
       "    <tr>\n",
       "      <td>20</td>\n",
       "      <td>Remote</td>\n",
       "      <td>55+</td>\n",
       "      <td>female</td>\n",
       "      <td>does not have</td>\n",
       "      <td>0.00</td>\n",
       "      <td>81.25</td>\n",
       "      <td>16.56</td>\n",
       "      <td>25.29</td>\n",
       "      <td>488.10</td>\n",
       "      <td>225.98</td>\n",
       "      <td>63.90</td>\n",
       "      <td>286.77</td>\n",
       "    </tr>\n",
       "    <tr>\n",
       "      <td>21</td>\n",
       "      <td>Remote</td>\n",
       "      <td>55+</td>\n",
       "      <td>female</td>\n",
       "      <td>has</td>\n",
       "      <td>25.80</td>\n",
       "      <td>37.00</td>\n",
       "      <td>14.00</td>\n",
       "      <td>118.60</td>\n",
       "      <td>517.00</td>\n",
       "      <td>118.00</td>\n",
       "      <td>71.00</td>\n",
       "      <td>277.00</td>\n",
       "    </tr>\n",
       "    <tr>\n",
       "      <td>22</td>\n",
       "      <td>Remote</td>\n",
       "      <td>55+</td>\n",
       "      <td>male</td>\n",
       "      <td>does not have</td>\n",
       "      <td>0.00</td>\n",
       "      <td>73.55</td>\n",
       "      <td>18.53</td>\n",
       "      <td>6.08</td>\n",
       "      <td>498.00</td>\n",
       "      <td>293.31</td>\n",
       "      <td>46.06</td>\n",
       "      <td>326.33</td>\n",
       "    </tr>\n",
       "    <tr>\n",
       "      <td>23</td>\n",
       "      <td>Remote</td>\n",
       "      <td>55+</td>\n",
       "      <td>male</td>\n",
       "      <td>has</td>\n",
       "      <td>10.00</td>\n",
       "      <td>115.00</td>\n",
       "      <td>0.00</td>\n",
       "      <td>30.00</td>\n",
       "      <td>523.33</td>\n",
       "      <td>125.00</td>\n",
       "      <td>35.00</td>\n",
       "      <td>440.00</td>\n",
       "    </tr>\n",
       "  </tbody>\n",
       "</table>\n",
       "</div>"
      ],
      "text/plain": [
       "newAct      remote   ageband     sex       children  Childcare  \\\n",
       "0       Non-remote  18 to 34  female  does not have       0.00   \n",
       "1       Non-remote  18 to 34  female            has      88.28   \n",
       "2       Non-remote  18 to 34    male  does not have       0.00   \n",
       "3       Non-remote  18 to 34    male            has      45.64   \n",
       "4       Non-remote  35 to 54  female  does not have       0.00   \n",
       "5       Non-remote  35 to 54  female            has      54.49   \n",
       "6       Non-remote  35 to 54    male  does not have       0.00   \n",
       "7       Non-remote  35 to 54    male            has      40.39   \n",
       "8       Non-remote       55+  female  does not have       0.00   \n",
       "9       Non-remote       55+  female            has      21.10   \n",
       "10      Non-remote       55+    male  does not have       0.00   \n",
       "11      Non-remote       55+    male            has      12.98   \n",
       "12          Remote  18 to 34  female  does not have       0.00   \n",
       "13          Remote  18 to 34  female            has     156.69   \n",
       "14          Remote  18 to 34    male  does not have       0.00   \n",
       "15          Remote  18 to 34    male            has      15.00   \n",
       "16          Remote  35 to 54  female  does not have       0.00   \n",
       "17          Remote  35 to 54  female            has      95.57   \n",
       "18          Remote  35 to 54    male  does not have       0.00   \n",
       "19          Remote  35 to 54    male            has      97.80   \n",
       "20          Remote       55+  female  does not have       0.00   \n",
       "21          Remote       55+  female            has      25.80   \n",
       "22          Remote       55+    male  does not have       0.00   \n",
       "23          Remote       55+    male            has      10.00   \n",
       "\n",
       "newAct  Eating & Drinking  Exercising  Doing housework  Sleeping  \\\n",
       "0                   61.03       12.85            13.93    486.93   \n",
       "1                   45.45        5.96            22.75    483.73   \n",
       "2                   56.37       11.28             8.44    480.54   \n",
       "3                   58.89        8.76             8.46    475.81   \n",
       "4                   62.85       10.40            16.05    466.11   \n",
       "5                   48.64        6.06            20.04    460.36   \n",
       "6                   62.52       12.17             7.97    486.71   \n",
       "7                   63.51       17.37             4.23    451.91   \n",
       "8                   58.76       10.05            20.83    458.38   \n",
       "9                   49.62        5.43            18.19    455.00   \n",
       "10                  67.22       10.60             6.99    462.59   \n",
       "11                  71.22        7.68             4.85    460.80   \n",
       "12                  49.86        8.93            75.14    503.14   \n",
       "13                  45.00       14.62            26.77    480.23   \n",
       "14                 115.00       10.00            18.33    455.00   \n",
       "15                 105.00        0.00             0.00    475.00   \n",
       "16                  53.21       11.04            33.25    469.25   \n",
       "17                  64.02       15.57            51.64    486.55   \n",
       "18                  75.56       16.88            25.62    502.00   \n",
       "19                  69.00       17.89            10.36    485.77   \n",
       "20                  81.25       16.56            25.29    488.10   \n",
       "21                  37.00       14.00           118.60    517.00   \n",
       "22                  73.55       18.53             6.08    498.00   \n",
       "23                 115.00        0.00            30.00    523.33   \n",
       "\n",
       "newAct  Socialising & relaxing  Travelling  Working  \n",
       "0                       153.92       70.55   485.19  \n",
       "1                       111.18       72.62   473.84  \n",
       "2                       197.83       86.59   483.95  \n",
       "3                       151.20       84.70   497.67  \n",
       "4                       132.69       75.75   507.33  \n",
       "5                       120.00       94.67   486.62  \n",
       "6                       169.73       77.15   519.21  \n",
       "7                       140.21       92.49   516.07  \n",
       "8                       167.68       73.79   482.86  \n",
       "9                       168.86       80.14   451.43  \n",
       "10                      190.01       81.02   490.78  \n",
       "11                      155.51       73.98   531.32  \n",
       "12                      235.36       70.79   289.29  \n",
       "13                      127.38       74.00   321.15  \n",
       "14                      225.50       35.83   469.17  \n",
       "15                      240.00       12.50   537.50  \n",
       "16                      189.96       42.17   416.83  \n",
       "17                      144.38       67.58   347.04  \n",
       "18                      242.50       36.69   369.56  \n",
       "19                      168.93       60.45   416.52  \n",
       "20                      225.98       63.90   286.77  \n",
       "21                      118.00       71.00   277.00  \n",
       "22                      293.31       46.06   326.33  \n",
       "23                      125.00       35.00   440.00  "
      ]
     },
     "execution_count": 382,
     "metadata": {},
     "output_type": "execute_result"
    }
   ],
   "source": [
    "barAverage"
   ]
  },
  {
   "cell_type": "code",
   "execution_count": 383,
   "metadata": {},
   "outputs": [
    {
     "name": "stdout",
     "output_type": "stream",
     "text": [
      "<class 'pandas.core.frame.DataFrame'>\n",
      "RangeIndex: 24 entries, 0 to 23\n",
      "Data columns (total 12 columns):\n",
      "remote                    24 non-null object\n",
      "ageband                   24 non-null object\n",
      "sex                       24 non-null object\n",
      "children                  24 non-null object\n",
      "Childcare                 24 non-null float64\n",
      "Eating & Drinking         24 non-null float64\n",
      "Exercising                24 non-null float64\n",
      "Doing housework           24 non-null float64\n",
      "Sleeping                  24 non-null float64\n",
      "Socialising & relaxing    24 non-null float64\n",
      "Travelling                24 non-null float64\n",
      "Working                   24 non-null float64\n",
      "dtypes: float64(8), object(4)\n",
      "memory usage: 2.4+ KB\n"
     ]
    }
   ],
   "source": [
    "barAverage.info()"
   ]
  },
  {
   "cell_type": "code",
   "execution_count": 384,
   "metadata": {},
   "outputs": [],
   "source": [
    "barAverage.to_csv('barChartData.csv', index=False)"
   ]
  }
 ],
 "metadata": {
  "kernelspec": {
   "display_name": "Python 3",
   "language": "python",
   "name": "python3"
  },
  "language_info": {
   "codemirror_mode": {
    "name": "ipython",
    "version": 3
   },
   "file_extension": ".py",
   "mimetype": "text/x-python",
   "name": "python",
   "nbconvert_exporter": "python",
   "pygments_lexer": "ipython3",
   "version": "3.7.4"
  }
 },
 "nbformat": 4,
 "nbformat_minor": 2
}
